{
 "cells": [
  {
   "cell_type": "code",
   "execution_count": null,
   "id": "105448a4",
   "metadata": {},
   "outputs": [],
   "source": [
    "import matplotlib.pyplot as plt\n",
    "from matplotlib.backends.backend_pdf import PdfPages\n",
    "import numpy as np\n",
    "import random\n",
    "import pandas as pd\n",
    "from sklearn import preprocessing\n",
    "from scipy import signal\n",
    "from matplotlib.backends.backend_pdf import PdfPages\n",
    "import math\n",
    "from sklearn.preprocessing import MinMaxScaler\n",
    "#import intervals as Inter"
   ]
  },
  {
   "cell_type": "code",
   "execution_count": null,
   "id": "ec49ccef",
   "metadata": {},
   "outputs": [],
   "source": [
    "arr = []    # create an empty list to insert the intensity (y) values \n",
    "A1 = []     # create an empty list to insert the abundance (a1) values\n",
    "A2 = []     # create an empty list to insert the abundance (a2) values\n",
    "     # create an empty list to insert the abundance (a3) values\n",
    "T1 = []     # create an empty list to insert the lifetime (t1) values\n",
    "T2 = []     # create an empty list to insert the lifetime (t2) values\n",
    "    # create an empty list to insert the lifetime (t3) values\n",
    "Lamda = []  # create an empty list to insert the Poisson noise (lamda) values\n",
    "N1 = []            \n",
    "STD = []\n",
    "only_data = []\n",
    "Noise = []\n",
    "# create a function to plot decay curve\n",
    "\n",
    "def FLIM (n, channels, Ltime, Utime):\n",
    "    \n",
    "    #pp = PdfPages ('spectrum_new_random_IRF7_N5.pdf')\n",
    "    \n",
    "    for i in range (n):\n",
    "        x = np.linspace (Ltime, Utime, num = channels)\n",
    "        standard_dev = random.randint(1,10)\n",
    "        g = signal.gaussian (50, std = standard_dev)\n",
    "        l=random.uniform (1,10)\n",
    "        \n",
    "        #lamda = random.uniform (Llamda, Ulamda)\n",
    "       \n",
    "        \n",
    "        \n",
    "        a1 = random.uniform (0.0, 100.0)\n",
    "        a2 = 100 - a1\n",
    "            \n",
    "        t1 = (1.0-0.05) * np.random.random_sample()+0.05\n",
    "        t2 = random.uniform (1.0, 4.0)\n",
    "        I = ((a1/100)*np.exp(-x/t1) + (a2/100)*np.exp (-x/t2))\n",
    "        I1=np.convolve(I,g, mode='full')\n",
    "        I1 = I1[0:channels]\n",
    "#         scaler = MinMaxScaler()\n",
    "#         I1 = scaler.fit_transform(I1)\n",
    "        #I1 = (I1-min(I1))/(max(I1)- min(I1))\n",
    "        t=np.linspace(100,110,num=channels)\n",
    "        I2= np.random.poisson(l/t, channels)\n",
    "            \n",
    "            \n",
    "            \n",
    "        y = I1 + I2\n",
    "        y = (y-min(y))/(max(y)- min(y))    \n",
    "            \n",
    "            #y = (y-min(y))/(max(y)- min(y))\n",
    "            #y[:40] = [0] * 40 # put first 40 points to zero\n",
    "           \n",
    "        \n",
    "        \n",
    "            \n",
    "            #y = (y-min(y))/(max(y)- min(y))\n",
    "            #y[:40] = [0] * 40\n",
    "        \n",
    "        arr.insert(0,y)\n",
    "        A1.insert(0,a1)\n",
    "        A2.insert(0,a2)\n",
    "        T1.insert(0,t1)\n",
    "        T2.insert(0,t2)\n",
    "        STD.insert (0,standard_dev )\n",
    "        N1.insert(0,I)\n",
    "        only_data.insert(0,I1)\n",
    "        Lamda.insert (0, l)\n",
    "        Noise.insert(0, I2)\n",
    "        #ax = gca()\n",
    "        fig=plt.figure(i)\n",
    "        plt.plot(x,y)\n",
    "        #ax.set_xticklabels(x_ticks, rotation=0, fontsize=8)\n",
    "        #ax.set_yticklabels(y_ticks, rotation=0, fontsize=8)\n",
    "\n",
    "        #ax.tick_params(axis='x', labelsize=8)\n",
    "        #ax.tick_params(axis='y', labelsize=8)\n",
    "        #plt.xticks('xtick', labelsize=36)    # fontsize of the tick labels\n",
    "        #plt.yticks('ytick', labelsize=36) \n",
    "        #plt.xlabel('Time(ns)')\n",
    "        #plt.ylabel('Intensity')\n",
    "        #plt.title('Fluorescence decay curve', fontweight = 'bold')\n",
    "        #textstr = 'a1=%.2f\\na2=%.2f\\nt1=%.2f\\nt2=%.2f'%(a1, a2, t1, t2 )\n",
    "        #plt.text(0.8, 0.8, textstr, horizontalalignment='right', verticalalignment='top' ,fontsize=10, color='purple',transform=plt.gcf().transFigure) \n",
    "        #plt.gcf().text(0.02, 0.5, textstr,horizontalalignment='right', verticalalignment='top', fontsize=10)\n",
    "        \n",
    "        #pp.savefig(fig) #save fig in one pdf format\n",
    "        #print(y)\n",
    "        #plt.figure(figsize=(20, 10), dpi=100)\n",
    "\n",
    "        plt.show(fig)\n",
    "    \n",
    "    #pp.close()"
   ]
  },
  {
   "cell_type": "code",
   "execution_count": null,
   "id": "acd164ce",
   "metadata": {},
   "outputs": [],
   "source": [
    " FLIM (5000, 1024, 0, 10)"
   ]
  },
  {
   "cell_type": "code",
   "execution_count": null,
   "id": "dc23b36a",
   "metadata": {},
   "outputs": [],
   "source": [
    "#convert all list values into an array\n",
    "Flim_array=np.array(arr)\n",
    "Flim_A1=np.array(A1)\n",
    "Flim_A2=np.array(A2)\n",
    "Flim_T1=np.array(T1)\n",
    "Flim_T2=np.array(T2)\n",
    "#Flim_std=np.array(STD)\n",
    "Flim_N1=np.array(N1)\n",
    "Flim_Lamda = np.array(Lamda)\n",
    "Flim_I1 = np.array(only_data)\n",
    "Flim_I2 = np.array(Noise)"
   ]
  },
  {
   "cell_type": "code",
   "execution_count": null,
   "id": "09699822",
   "metadata": {},
   "outputs": [],
   "source": [
    "#convert array tp panda dataframe\n",
    "Flim_dataframe=pd.DataFrame(Flim_array)\n",
    "Flim_A1dataframe = pd.DataFrame(Flim_A1, columns = ['a1'])\n",
    "Flim_A2dataframe = pd.DataFrame (Flim_A2, columns = ['a2'])\n",
    "Flim_T1dataframe = pd.DataFrame (Flim_T1, columns = ['t1'])\n",
    "Flim_T2dataframe = pd.DataFrame (Flim_T2, columns = ['t2'])\n",
    "Flim_stddataframe=pd.DataFrame(Flim_std, columns = ['std'])\n",
    "Flim_N1datafram = pd.DataFrame(Flim_N1)\n",
    "Flim_I2datafram = pd.DataFrame(Flim_I2)\n",
    "Flim_I1datafram = pd.DataFrame(Flim_I1)\n",
    "Flim_Lamdadatafram = pd.DataFrame(Flim_Lamda)"
   ]
  }
 ],
 "metadata": {
  "kernelspec": {
   "display_name": "Python 3 (ipykernel)",
   "language": "python",
   "name": "python3"
  },
  "language_info": {
   "codemirror_mode": {
    "name": "ipython",
    "version": 3
   },
   "file_extension": ".py",
   "mimetype": "text/x-python",
   "name": "python",
   "nbconvert_exporter": "python",
   "pygments_lexer": "ipython3",
   "version": "3.8.17"
  },
  "varInspector": {
   "cols": {
    "lenName": 16,
    "lenType": 16,
    "lenVar": 40
   },
   "kernels_config": {
    "python": {
     "delete_cmd_postfix": "",
     "delete_cmd_prefix": "del ",
     "library": "var_list.py",
     "varRefreshCmd": "print(var_dic_list())"
    },
    "r": {
     "delete_cmd_postfix": ") ",
     "delete_cmd_prefix": "rm(",
     "library": "var_list.r",
     "varRefreshCmd": "cat(var_dic_list()) "
    }
   },
   "types_to_exclude": [
    "module",
    "function",
    "builtin_function_or_method",
    "instance",
    "_Feature"
   ],
   "window_display": false
  }
 },
 "nbformat": 4,
 "nbformat_minor": 5
}
